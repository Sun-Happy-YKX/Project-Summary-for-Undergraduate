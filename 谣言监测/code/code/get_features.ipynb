{
 "cells": [
  {
   "cell_type": "code",
   "execution_count": 2,
   "metadata": {},
   "outputs": [
    {
     "ename": "OSError",
     "evalue": "Initializing from file failed",
     "output_type": "error",
     "traceback": [
      "\u001b[1;31m---------------------------------------------------------------------------\u001b[0m",
      "\u001b[1;31mOSError\u001b[0m                                   Traceback (most recent call last)",
      "\u001b[1;32m<ipython-input-2-c06fedd2ab46>\u001b[0m in \u001b[0;36m<module>\u001b[1;34m()\u001b[0m\n\u001b[1;32m----> 1\u001b[1;33m \u001b[0mtrain\u001b[0m \u001b[1;33m=\u001b[0m \u001b[0mpd\u001b[0m\u001b[1;33m.\u001b[0m\u001b[0mread_csv\u001b[0m\u001b[1;33m(\u001b[0m\u001b[1;34m'F:/学习/大三上/信息安全学基础/dataset/train.csv'\u001b[0m\u001b[1;33m)\u001b[0m\u001b[1;33m\u001b[0m\u001b[0m\n\u001b[0m\u001b[0;32m      2\u001b[0m \u001b[0mtest\u001b[0m \u001b[1;33m=\u001b[0m \u001b[0mpd\u001b[0m\u001b[1;33m.\u001b[0m\u001b[0mread_csv\u001b[0m\u001b[1;33m(\u001b[0m\u001b[1;34m'F:/学习/大三上/信息安全学基础/datasettest_dataset.csv'\u001b[0m\u001b[1;33m)\u001b[0m\u001b[1;33m\u001b[0m\u001b[0m\n",
      "\u001b[1;32mF:\\anaconda\\lib\\site-packages\\pandas\\io\\parsers.py\u001b[0m in \u001b[0;36mparser_f\u001b[1;34m(filepath_or_buffer, sep, delimiter, header, names, index_col, usecols, squeeze, prefix, mangle_dupe_cols, dtype, engine, converters, true_values, false_values, skipinitialspace, skiprows, nrows, na_values, keep_default_na, na_filter, verbose, skip_blank_lines, parse_dates, infer_datetime_format, keep_date_col, date_parser, dayfirst, iterator, chunksize, compression, thousands, decimal, lineterminator, quotechar, quoting, escapechar, comment, encoding, dialect, tupleize_cols, error_bad_lines, warn_bad_lines, skipfooter, skip_footer, doublequote, delim_whitespace, as_recarray, compact_ints, use_unsigned, low_memory, buffer_lines, memory_map, float_precision)\u001b[0m\n\u001b[0;32m    653\u001b[0m                     skip_blank_lines=skip_blank_lines)\n\u001b[0;32m    654\u001b[0m \u001b[1;33m\u001b[0m\u001b[0m\n\u001b[1;32m--> 655\u001b[1;33m         \u001b[1;32mreturn\u001b[0m \u001b[0m_read\u001b[0m\u001b[1;33m(\u001b[0m\u001b[0mfilepath_or_buffer\u001b[0m\u001b[1;33m,\u001b[0m \u001b[0mkwds\u001b[0m\u001b[1;33m)\u001b[0m\u001b[1;33m\u001b[0m\u001b[0m\n\u001b[0m\u001b[0;32m    656\u001b[0m \u001b[1;33m\u001b[0m\u001b[0m\n\u001b[0;32m    657\u001b[0m     \u001b[0mparser_f\u001b[0m\u001b[1;33m.\u001b[0m\u001b[0m__name__\u001b[0m \u001b[1;33m=\u001b[0m \u001b[0mname\u001b[0m\u001b[1;33m\u001b[0m\u001b[0m\n",
      "\u001b[1;32mF:\\anaconda\\lib\\site-packages\\pandas\\io\\parsers.py\u001b[0m in \u001b[0;36m_read\u001b[1;34m(filepath_or_buffer, kwds)\u001b[0m\n\u001b[0;32m    403\u001b[0m \u001b[1;33m\u001b[0m\u001b[0m\n\u001b[0;32m    404\u001b[0m     \u001b[1;31m# Create the parser.\u001b[0m\u001b[1;33m\u001b[0m\u001b[1;33m\u001b[0m\u001b[0m\n\u001b[1;32m--> 405\u001b[1;33m     \u001b[0mparser\u001b[0m \u001b[1;33m=\u001b[0m \u001b[0mTextFileReader\u001b[0m\u001b[1;33m(\u001b[0m\u001b[0mfilepath_or_buffer\u001b[0m\u001b[1;33m,\u001b[0m \u001b[1;33m**\u001b[0m\u001b[0mkwds\u001b[0m\u001b[1;33m)\u001b[0m\u001b[1;33m\u001b[0m\u001b[0m\n\u001b[0m\u001b[0;32m    406\u001b[0m \u001b[1;33m\u001b[0m\u001b[0m\n\u001b[0;32m    407\u001b[0m     \u001b[1;32mif\u001b[0m \u001b[0mchunksize\u001b[0m \u001b[1;32mor\u001b[0m \u001b[0miterator\u001b[0m\u001b[1;33m:\u001b[0m\u001b[1;33m\u001b[0m\u001b[0m\n",
      "\u001b[1;32mF:\\anaconda\\lib\\site-packages\\pandas\\io\\parsers.py\u001b[0m in \u001b[0;36m__init__\u001b[1;34m(self, f, engine, **kwds)\u001b[0m\n\u001b[0;32m    762\u001b[0m             \u001b[0mself\u001b[0m\u001b[1;33m.\u001b[0m\u001b[0moptions\u001b[0m\u001b[1;33m[\u001b[0m\u001b[1;34m'has_index_names'\u001b[0m\u001b[1;33m]\u001b[0m \u001b[1;33m=\u001b[0m \u001b[0mkwds\u001b[0m\u001b[1;33m[\u001b[0m\u001b[1;34m'has_index_names'\u001b[0m\u001b[1;33m]\u001b[0m\u001b[1;33m\u001b[0m\u001b[0m\n\u001b[0;32m    763\u001b[0m \u001b[1;33m\u001b[0m\u001b[0m\n\u001b[1;32m--> 764\u001b[1;33m         \u001b[0mself\u001b[0m\u001b[1;33m.\u001b[0m\u001b[0m_make_engine\u001b[0m\u001b[1;33m(\u001b[0m\u001b[0mself\u001b[0m\u001b[1;33m.\u001b[0m\u001b[0mengine\u001b[0m\u001b[1;33m)\u001b[0m\u001b[1;33m\u001b[0m\u001b[0m\n\u001b[0m\u001b[0;32m    765\u001b[0m \u001b[1;33m\u001b[0m\u001b[0m\n\u001b[0;32m    766\u001b[0m     \u001b[1;32mdef\u001b[0m \u001b[0mclose\u001b[0m\u001b[1;33m(\u001b[0m\u001b[0mself\u001b[0m\u001b[1;33m)\u001b[0m\u001b[1;33m:\u001b[0m\u001b[1;33m\u001b[0m\u001b[0m\n",
      "\u001b[1;32mF:\\anaconda\\lib\\site-packages\\pandas\\io\\parsers.py\u001b[0m in \u001b[0;36m_make_engine\u001b[1;34m(self, engine)\u001b[0m\n\u001b[0;32m    983\u001b[0m     \u001b[1;32mdef\u001b[0m \u001b[0m_make_engine\u001b[0m\u001b[1;33m(\u001b[0m\u001b[0mself\u001b[0m\u001b[1;33m,\u001b[0m \u001b[0mengine\u001b[0m\u001b[1;33m=\u001b[0m\u001b[1;34m'c'\u001b[0m\u001b[1;33m)\u001b[0m\u001b[1;33m:\u001b[0m\u001b[1;33m\u001b[0m\u001b[0m\n\u001b[0;32m    984\u001b[0m         \u001b[1;32mif\u001b[0m \u001b[0mengine\u001b[0m \u001b[1;33m==\u001b[0m \u001b[1;34m'c'\u001b[0m\u001b[1;33m:\u001b[0m\u001b[1;33m\u001b[0m\u001b[0m\n\u001b[1;32m--> 985\u001b[1;33m             \u001b[0mself\u001b[0m\u001b[1;33m.\u001b[0m\u001b[0m_engine\u001b[0m \u001b[1;33m=\u001b[0m \u001b[0mCParserWrapper\u001b[0m\u001b[1;33m(\u001b[0m\u001b[0mself\u001b[0m\u001b[1;33m.\u001b[0m\u001b[0mf\u001b[0m\u001b[1;33m,\u001b[0m \u001b[1;33m**\u001b[0m\u001b[0mself\u001b[0m\u001b[1;33m.\u001b[0m\u001b[0moptions\u001b[0m\u001b[1;33m)\u001b[0m\u001b[1;33m\u001b[0m\u001b[0m\n\u001b[0m\u001b[0;32m    986\u001b[0m         \u001b[1;32melse\u001b[0m\u001b[1;33m:\u001b[0m\u001b[1;33m\u001b[0m\u001b[0m\n\u001b[0;32m    987\u001b[0m             \u001b[1;32mif\u001b[0m \u001b[0mengine\u001b[0m \u001b[1;33m==\u001b[0m \u001b[1;34m'python'\u001b[0m\u001b[1;33m:\u001b[0m\u001b[1;33m\u001b[0m\u001b[0m\n",
      "\u001b[1;32mF:\\anaconda\\lib\\site-packages\\pandas\\io\\parsers.py\u001b[0m in \u001b[0;36m__init__\u001b[1;34m(self, src, **kwds)\u001b[0m\n\u001b[0;32m   1603\u001b[0m         \u001b[0mkwds\u001b[0m\u001b[1;33m[\u001b[0m\u001b[1;34m'allow_leading_cols'\u001b[0m\u001b[1;33m]\u001b[0m \u001b[1;33m=\u001b[0m \u001b[0mself\u001b[0m\u001b[1;33m.\u001b[0m\u001b[0mindex_col\u001b[0m \u001b[1;32mis\u001b[0m \u001b[1;32mnot\u001b[0m \u001b[1;32mFalse\u001b[0m\u001b[1;33m\u001b[0m\u001b[0m\n\u001b[0;32m   1604\u001b[0m \u001b[1;33m\u001b[0m\u001b[0m\n\u001b[1;32m-> 1605\u001b[1;33m         \u001b[0mself\u001b[0m\u001b[1;33m.\u001b[0m\u001b[0m_reader\u001b[0m \u001b[1;33m=\u001b[0m \u001b[0mparsers\u001b[0m\u001b[1;33m.\u001b[0m\u001b[0mTextReader\u001b[0m\u001b[1;33m(\u001b[0m\u001b[0msrc\u001b[0m\u001b[1;33m,\u001b[0m \u001b[1;33m**\u001b[0m\u001b[0mkwds\u001b[0m\u001b[1;33m)\u001b[0m\u001b[1;33m\u001b[0m\u001b[0m\n\u001b[0m\u001b[0;32m   1606\u001b[0m \u001b[1;33m\u001b[0m\u001b[0m\n\u001b[0;32m   1607\u001b[0m         \u001b[1;31m# XXX\u001b[0m\u001b[1;33m\u001b[0m\u001b[1;33m\u001b[0m\u001b[0m\n",
      "\u001b[1;32mpandas/_libs/parsers.pyx\u001b[0m in \u001b[0;36mpandas._libs.parsers.TextReader.__cinit__ (pandas\\_libs\\parsers.c:4209)\u001b[1;34m()\u001b[0m\n",
      "\u001b[1;32mpandas/_libs/parsers.pyx\u001b[0m in \u001b[0;36mpandas._libs.parsers.TextReader._setup_parser_source (pandas\\_libs\\parsers.c:8895)\u001b[1;34m()\u001b[0m\n",
      "\u001b[1;31mOSError\u001b[0m: Initializing from file failed"
     ]
    }
   ],
   "source": [
    "train = pd.read_csv('F:/学习/大三上/信息安全学基础/dataset/train.csv')\n",
    "test = pd.read_csv('F:/学习/大三上/信息安全学基础/datasettest_dataset.csv')"
   ]
  },
  {
   "cell_type": "code",
   "execution_count": 1,
   "metadata": {
    "collapsed": true
   },
   "outputs": [],
   "source": [
    "import pandas as pd\n",
    "import numpy as np\n",
    "import re"
   ]
  },
  {
   "cell_type": "code",
   "execution_count": 122,
   "metadata": {
    "collapsed": true
   },
   "outputs": [],
   "source": [
    "train = train.fillna({'content':'','picture_lists':'','category':'','ncw_label':0,'fake_label':0,'real_label':0,'comment_2c':'','comment_all':''})\n",
    "test = test.fillna({'content':'','picture_lists':'','category':'','comment_2':'','comment_all':''})"
   ]
  },
  {
   "cell_type": "code",
   "execution_count": 3,
   "metadata": {},
   "outputs": [
    {
     "ename": "NameError",
     "evalue": "name 'train' is not defined",
     "output_type": "error",
     "traceback": [
      "\u001b[1;31m---------------------------------------------------------------------------\u001b[0m",
      "\u001b[1;31mNameError\u001b[0m                                 Traceback (most recent call last)",
      "\u001b[1;32m<ipython-input-3-4c1aff02b3b9>\u001b[0m in \u001b[0;36m<module>\u001b[1;34m()\u001b[0m\n\u001b[0;32m      1\u001b[0m \u001b[1;31m# 去掉content的html\u001b[0m\u001b[1;33m\u001b[0m\u001b[1;33m\u001b[0m\u001b[0m\n\u001b[1;32m----> 2\u001b[1;33m \u001b[1;32mfor\u001b[0m \u001b[0mi\u001b[0m \u001b[1;32min\u001b[0m \u001b[0mrange\u001b[0m\u001b[1;33m(\u001b[0m\u001b[0mtrain\u001b[0m\u001b[1;33m.\u001b[0m\u001b[0mshape\u001b[0m\u001b[1;33m[\u001b[0m\u001b[1;36m0\u001b[0m\u001b[1;33m]\u001b[0m\u001b[1;33m)\u001b[0m\u001b[1;33m:\u001b[0m\u001b[1;33m\u001b[0m\u001b[0m\n\u001b[0m\u001b[0;32m      3\u001b[0m     \u001b[0mtrain\u001b[0m\u001b[1;33m.\u001b[0m\u001b[0mloc\u001b[0m\u001b[1;33m[\u001b[0m\u001b[0mi\u001b[0m\u001b[1;33m,\u001b[0m\u001b[1;34m'content'\u001b[0m\u001b[1;33m]\u001b[0m \u001b[1;33m=\u001b[0m \u001b[0mre\u001b[0m\u001b[1;33m.\u001b[0m\u001b[0msub\u001b[0m\u001b[1;33m(\u001b[0m\u001b[1;34mr'http[0-9a-zA-Z:/-_.&@#$%^*=+]+'\u001b[0m\u001b[1;33m,\u001b[0m \u001b[1;34m'url'\u001b[0m\u001b[1;33m,\u001b[0m \u001b[0mtrain\u001b[0m\u001b[1;33m.\u001b[0m\u001b[0mloc\u001b[0m\u001b[1;33m[\u001b[0m\u001b[0mi\u001b[0m\u001b[1;33m,\u001b[0m\u001b[1;34m'content'\u001b[0m\u001b[1;33m]\u001b[0m\u001b[1;33m)\u001b[0m\u001b[1;33m\u001b[0m\u001b[0m\n\u001b[0;32m      4\u001b[0m \u001b[1;33m\u001b[0m\u001b[0m\n\u001b[0;32m      5\u001b[0m \u001b[1;31m# content_len\u001b[0m\u001b[1;33m\u001b[0m\u001b[1;33m\u001b[0m\u001b[0m\n",
      "\u001b[1;31mNameError\u001b[0m: name 'train' is not defined"
     ]
    }
   ],
   "source": [
    "# 去掉content的html\n",
    "for i in range(train.shape[0]):\n",
    "    train.loc[i,'content'] = re.sub(r'http[0-9a-zA-Z:/-_.&@#$%^*=+]+', 'url', train.loc[i,'content'])\n",
    "\n",
    "# content_len\n",
    "train['content_len'] = None\n",
    "for i in range(train.shape[0]):\n",
    "    train.loc[i,'content_len'] = len(train.loc[i,'content'])\n",
    "    \n",
    "# 删除长度<=11的\n",
    "train = train[~train['content_len'].isin([i for i in range(12)])]\n",
    "train.index = range(len(train))\n",
    "\n",
    "# 全部评论的数量\n",
    "train['comment_num'] = None\n",
    "for i in range(train.shape[0]):\n",
    "    try:\n",
    "        train.loc[i,'comment_num'] = len(train.loc[i,'comment_all'].strip('\\t').split('\\t').remove(''))\n",
    "    except:\n",
    "        train.loc[i,'comment_num'] = 0\n",
    "        \n",
    "# 评论的数量2\n",
    "train['comment_num2'] = None\n",
    "for i in range(train.shape[0]):\n",
    "    try:\n",
    "        train.loc[i,'comment_num2'] = len(train.loc[i,'comment_2c'].strip('\\t').split('\\t').remove(''))\n",
    "    except:\n",
    "        train.loc[i,'comment_num2'] = 0\n",
    "        \n",
    "# content感叹号的个数\n",
    "train['exclamation_num'] = None\n",
    "for i in range(train.shape[0]):\n",
    "    train.loc[i,'exclamation_num'] = train.loc[i,'content'].count('！') + train.loc[i,'content'].count('!')\n",
    "    \n",
    "# content问号的个数\n",
    "train['questionmask_num'] = None\n",
    "for i in range(train.shape[0]):\n",
    "    train.loc[i,'questionmask_num'] = train.loc[i,'content'].count('？') + train.loc[i,'content'].count('?')\n",
    "    \n",
    "# content省略号的个数\n",
    "train['etc_num'] = None\n",
    "for i in range(train.shape[0]):\n",
    "    train.loc[i,'etc_num'] = len(re.findall(r'.[.]+|。[。]+|[…]+|,[,]+|，[，]+|![!]+|！[！]+|\\?[\\?]+|？[？]+',train.loc[i,'content']))\n",
    "    \n",
    "# 评论感叹号的个数2\n",
    "train['exclamation_num_comment2'] = None\n",
    "for i in range(train.shape[0]):\n",
    "    train.loc[i,'exclamation_num_comment2'] = train.loc[i,'comment_2c'].count('！') + train.loc[i,'comment_2c'].count('!')\n",
    "    \n",
    "# 评论问号的个数2\n",
    "train['questionmask_num_comment2'] = None\n",
    "for i in range(train.shape[0]):\n",
    "    train.loc[i,'questionmask_num_comment2'] = train.loc[i,'comment_2c'].count('？') + train.loc[i,'comment_2c'].count('?')\n",
    "\n",
    "# 评论省略号的个数2\n",
    "train['etc_num_comment2'] = None\n",
    "for i in range(train.shape[0]):\n",
    "    train.loc[i,'etc_num_comment2'] = len(re.findall(r'.[.]+|。[。]+|[…]+|,[,]+|，[，]+|![!]+|！[！]+|\\?[\\?]+|？[？]+',train.loc[i,'comment_2c']))\n",
    "    \n",
    "# 评论感叹号的个数all\n",
    "train['exclamation_num_comment'] = None\n",
    "for i in range(train.shape[0]):\n",
    "    train.loc[i,'exclamation_num_comment'] = train.loc[i,'comment_all'].count('！') + train.loc[i,'comment_all'].count('!')\n",
    "    \n",
    "# 评论问号的个数all\n",
    "train['questionmask_num_comment'] = None\n",
    "for i in range(train.shape[0]):\n",
    "    train.loc[i,'questionmask_num_comment'] = train.loc[i,'comment_all'].count('？') + train.loc[i,'comment_all'].count('?')\n",
    "\n",
    "# 评论省略号的个数all\n",
    "train['etc_num_comment'] = None\n",
    "for i in range(train.shape[0]):\n",
    "    train.loc[i,'etc_num_comment'] = len(re.findall(r'.[.]+|。[。]+|[…]+|,[,]+|，[，]+|![!]+|！[！]+|\\?[\\?]+|？[？]+',train.loc[i,'comment_all']))\n",
    "    \n",
    "# content1、2、数量\n",
    "train['pron_num'] = None\n",
    "for i in range(train.shape[0]):\n",
    "    train.loc[i,'pron_num'] = len(re.findall(r'[1-9]\\.|[1-9]、',train.loc[i,'content']))\n",
    "\n",
    "# content url数量\n",
    "train['url_num'] = None\n",
    "for i in range(train.shape[0]):\n",
    "    train.loc[i,'url_num'] = len(re.findall(r'url',train.loc[i,'content']))\n",
    "\n",
    "# content @数量\n",
    "train['at_num'] = None\n",
    "for i in range(train.shape[0]):\n",
    "    train.loc[i,'at_num'] = len(re.findall(r'@',train.loc[i,'content']))\n",
    "    \n",
    "# content #数量\n",
    "train['jing_num'] = None\n",
    "for i in range(train.shape[0]):\n",
    "    train.loc[i,'jing_num'] = len(re.findall(r'#',train.loc[i,'content'])) / 2\n",
    "    \n",
    "# 图片的数量\n",
    "train['pic_num'] = None\n",
    "for i in range(train.shape[0]):\n",
    "    try:\n",
    "        train.loc[i,'pic_num'] = len(train.loc[i,'picture_lists'].strip('\\t').split('\\t').remove(''))\n",
    "    except:\n",
    "        train.loc[i,'pic_num'] = 0\n",
    "        \n",
    "# 评论谣、假数量2\n",
    "train['fake_num_comment2'] = None\n",
    "for i in range(train.shape[0]):\n",
    "    train.loc[i,'fake_num_comment2'] = len(re.findall(r'谣|假|骗',train.loc[i,'comment_2c']))\n",
    "    \n",
    "# 评论谣、假数量\n",
    "train['fake_num_comment'] = None\n",
    "for i in range(train.shape[0]):\n",
    "    train.loc[i,'fake_num_comment'] = len(re.findall(r'谣|假|骗',train.loc[i,'comment_all']))\n",
    "    \n",
    "# content谣、假数量\n",
    "train['fake_num'] = None\n",
    "for i in range(train.shape[0]):\n",
    "    train.loc[i,'fake_num'] = len(re.findall(r'谣|假|骗',train.loc[i,'content']))"
   ]
  },
  {
   "cell_type": "code",
   "execution_count": 124,
   "metadata": {
    "collapsed": true
   },
   "outputs": [],
   "source": [
    "# 去掉content的html\n",
    "for i in range(test.shape[0]):\n",
    "    test.loc[i,'content'] = re.sub(r'http[0-9a-zA-Z:/-_.&@#$%^*=+]+', 'url', test.loc[i,'content'])\n",
    "\n",
    "# content_len\n",
    "test['content_len'] = None\n",
    "for i in range(test.shape[0]):\n",
    "    test.loc[i,'content_len'] = len(test.loc[i,'content'])\n",
    "    \n",
    "# 删除长度<=11的\n",
    "test = test[~test['content_len'].isin([i for i in range(12)])]\n",
    "test.index = range(len(test))\n",
    "\n",
    "# 全部评论的数量\n",
    "test['comment_num'] = None\n",
    "for i in range(test.shape[0]):\n",
    "    try:\n",
    "        test.loc[i,'comment_num'] = len(test.loc[i,'comment_all'].strip('\\t').split('\\t').remove(''))\n",
    "    except:\n",
    "        test.loc[i,'comment_num'] = 0\n",
    "        \n",
    "# 评论的数量2\n",
    "test['comment_num2'] = None\n",
    "for i in range(test.shape[0]):\n",
    "    try:\n",
    "        test.loc[i,'comment_num2'] = len(test.loc[i,'comment_2'].strip('\\t').split('\\t').remove(''))\n",
    "    except:\n",
    "        test.loc[i,'comment_num2'] = 0\n",
    "        \n",
    "# content感叹号的个数\n",
    "test['exclamation_num'] = None\n",
    "for i in range(test.shape[0]):\n",
    "    test.loc[i,'exclamation_num'] = test.loc[i,'content'].count('！') + test.loc[i,'content'].count('!')\n",
    "    \n",
    "# content问号的个数\n",
    "test['questionmask_num'] = None\n",
    "for i in range(test.shape[0]):\n",
    "    test.loc[i,'questionmask_num'] = test.loc[i,'content'].count('？') + test.loc[i,'content'].count('?')\n",
    "    \n",
    "# content省略号的个数\n",
    "test['etc_num'] = None\n",
    "for i in range(test.shape[0]):\n",
    "    test.loc[i,'etc_num'] = len(re.findall(r'.[.]+|。[。]+|[…]+|,[,]+|，[，]+|![!]+|！[！]+|\\?[\\?]+|？[？]+',test.loc[i,'content']))\n",
    "    \n",
    "# 评论感叹号的个数2\n",
    "test['exclamation_num_comment2'] = None\n",
    "for i in range(test.shape[0]):\n",
    "    test.loc[i,'exclamation_num_comment2'] = test.loc[i,'comment_2'].count('！') + test.loc[i,'comment_2'].count('!')\n",
    "    \n",
    "# 评论问号的个数2\n",
    "test['questionmask_num_comment2'] = None\n",
    "for i in range(test.shape[0]):\n",
    "    test.loc[i,'questionmask_num_comment2'] = test.loc[i,'comment_2'].count('？') + test.loc[i,'comment_2'].count('?')\n",
    "\n",
    "# 评论省略号的个数2\n",
    "test['etc_num_comment2'] = None\n",
    "for i in range(test.shape[0]):\n",
    "    test.loc[i,'etc_num_comment2'] = len(re.findall(r'.[.]+|。[。]+|[…]+|,[,]+|，[，]+|![!]+|！[！]+|\\?[\\?]+|？[？]+',test.loc[i,'comment_2']))\n",
    "    \n",
    "# 评论感叹号的个数all\n",
    "test['exclamation_num_comment'] = None\n",
    "for i in range(test.shape[0]):\n",
    "    test.loc[i,'exclamation_num_comment'] = test.loc[i,'comment_all'].count('！') + test.loc[i,'comment_all'].count('!')\n",
    "    \n",
    "# 评论问号的个数all\n",
    "test['questionmask_num_comment'] = None\n",
    "for i in range(test.shape[0]):\n",
    "    test.loc[i,'questionmask_num_comment'] = test.loc[i,'comment_all'].count('？') + test.loc[i,'comment_all'].count('?')\n",
    "\n",
    "# 评论省略号的个数all\n",
    "test['etc_num_comment'] = None\n",
    "for i in range(test.shape[0]):\n",
    "    test.loc[i,'etc_num_comment'] = len(re.findall(r'.[.]+|。[。]+|[…]+|,[,]+|，[，]+|![!]+|！[！]+|\\?[\\?]+|？[？]+',test.loc[i,'comment_all']))\n",
    "    \n",
    "# content1、2、数量\n",
    "test['pron_num'] = None\n",
    "for i in range(test.shape[0]):\n",
    "    test.loc[i,'pron_num'] = len(re.findall(r'[1-9]\\.|[1-9]、',test.loc[i,'content']))\n",
    "\n",
    "# content url数量\n",
    "test['url_num'] = None\n",
    "for i in range(test.shape[0]):\n",
    "    test.loc[i,'url_num'] = len(re.findall(r'url',test.loc[i,'content']))\n",
    "\n",
    "# content @数量\n",
    "test['at_num'] = None\n",
    "for i in range(test.shape[0]):\n",
    "    test.loc[i,'at_num'] = len(re.findall(r'@',test.loc[i,'content']))\n",
    "    \n",
    "# content #数量\n",
    "test['jing_num'] = None\n",
    "for i in range(test.shape[0]):\n",
    "    test.loc[i,'jing_num'] = len(re.findall(r'#',test.loc[i,'content'])) / 2\n",
    "    \n",
    "# 图片的数量\n",
    "test['pic_num'] = None\n",
    "for i in range(test.shape[0]):\n",
    "    try:\n",
    "        test.loc[i,'pic_num'] = len(test.loc[i,'picture_lists'].strip('\\t').split('\\t').remove(''))\n",
    "    except:\n",
    "        test.loc[i,'pic_num'] = 0\n",
    "        \n",
    "# 评论谣、假数量2\n",
    "test['fake_num_comment2'] = None\n",
    "for i in range(test.shape[0]):\n",
    "    test.loc[i,'fake_num_comment2'] = len(re.findall(r'谣|假|骗',test.loc[i,'comment_2']))\n",
    "    \n",
    "# 评论谣、假数量\n",
    "test['fake_num_comment'] = None\n",
    "for i in range(test.shape[0]):\n",
    "    test.loc[i,'fake_num_comment'] = len(re.findall(r'谣|假|骗',test.loc[i,'comment_all']))\n",
    "    \n",
    "# content谣、假数量\n",
    "test['fake_num'] = None\n",
    "for i in range(test.shape[0]):\n",
    "    test.loc[i,'fake_num'] = len(re.findall(r'谣|假|骗',test.loc[i,'content']))"
   ]
  },
  {
   "cell_type": "code",
   "execution_count": 137,
   "metadata": {
    "collapsed": true
   },
   "outputs": [],
   "source": [
    "train.to_csv('/mnt/news_virus/train_clear.csv',index=False)\n",
    "test.to_csv('/mnt/news_virus/test_clear.csv',index=False)"
   ]
  },
  {
   "cell_type": "code",
   "execution_count": 5,
   "metadata": {
    "collapsed": true
   },
   "outputs": [],
   "source": [
    "train = pd.read_csv('/mnt/news_virus/train_clear.csv',low_memory=False)\n",
    "test = pd.read_csv('/mnt/news_virus/test_clear.csv',low_memory=False)"
   ]
  },
  {
   "cell_type": "code",
   "execution_count": 3,
   "metadata": {},
   "outputs": [
    {
     "name": "stderr",
     "output_type": "stream",
     "text": [
      "Building prefix dict from the default dictionary ...\n",
      "Loading model from cache /tmp/jieba.cache\n",
      "Loading model cost 1.486 seconds.\n",
      "Prefix dict has been built successfully.\n"
     ]
    },
    {
     "name": "stdout",
     "output_type": "stream",
     "text": [
      "reading...\n"
     ]
    }
   ],
   "source": [
    "from dict_main import single_review_sentiment_score"
   ]
  },
  {
   "cell_type": "code",
   "execution_count": 6,
   "metadata": {
    "collapsed": true
   },
   "outputs": [],
   "source": [
    "results = []\n",
    "for content in train['content']:\n",
    "    score = single_review_sentiment_score(content)  # 对每条微博调用函数求得打分\n",
    "    results.append(score)   # 形成（分数，微博）元组\n",
    "train['content_mood'] = results"
   ]
  },
  {
   "cell_type": "code",
   "execution_count": 12,
   "metadata": {
    "collapsed": true
   },
   "outputs": [],
   "source": [
    "results = []\n",
    "for content in train['comment_2c']:\n",
    "    try:\n",
    "        score = single_review_sentiment_score(content)  # 对每条微博调用函数求得打分\n",
    "        results.append(score)   # 形成（分数，微博）元组\n",
    "    except:\n",
    "        score = 0.0\n",
    "        results.append(score)\n",
    "train['comment_mood2'] = results\n",
    "\n",
    "results = []\n",
    "for content in train['comment_all']:\n",
    "    try:\n",
    "        score = single_review_sentiment_score(content)  # 对每条微博调用函数求得打分\n",
    "        results.append(score)   # 形成（分数，微博）元组\n",
    "    except:\n",
    "        score = 0.0\n",
    "        results.append(score)\n",
    "train['comment_mood'] = results"
   ]
  },
  {
   "cell_type": "code",
   "execution_count": 13,
   "metadata": {
    "collapsed": true
   },
   "outputs": [],
   "source": [
    "results = []\n",
    "for content in test['content']:\n",
    "    try:\n",
    "        score = single_review_sentiment_score(content)  # 对每条微博调用函数求得打分\n",
    "        results.append(score)   # 形成（分数，微博）元组\n",
    "    except:\n",
    "        score = 0.0\n",
    "        results.append(score)\n",
    "test['content_mood'] = results\n",
    "\n",
    "results = []\n",
    "for content in test['comment_2']:\n",
    "    try:\n",
    "        score = single_review_sentiment_score(content)  # 对每条微博调用函数求得打分\n",
    "        results.append(score)   # 形成（分数，微博）元组\n",
    "    except:\n",
    "        score = 0.0\n",
    "        results.append(score)\n",
    "test['comment_mood2'] = results\n",
    "\n",
    "results = []\n",
    "for content in test['comment_all']:\n",
    "    try:\n",
    "        score = single_review_sentiment_score(content)  # 对每条微博调用函数求得打分\n",
    "        results.append(score)   # 形成（分数，微博）元组\n",
    "    except:\n",
    "        score = 0.0\n",
    "        results.append(score)\n",
    "test['comment_mood'] = results"
   ]
  },
  {
   "cell_type": "code",
   "execution_count": 14,
   "metadata": {
    "collapsed": true
   },
   "outputs": [],
   "source": [
    "train.to_csv('/mnt/news_virus/train_clear_mood.csv',index=False)\n",
    "test.to_csv('/mnt/news_virus/test_clear_mood.csv',index=False)"
   ]
  },
  {
   "cell_type": "code",
   "execution_count": 15,
   "metadata": {
    "collapsed": true
   },
   "outputs": [],
   "source": [
    "train1['content_mood'] = None\n",
    "train1['comment_mood'] = None\n",
    "train1['comment_mood2'] = None\n",
    "j = 0\n",
    "for i in range(train1.shape[0]):\n",
    "    if train1.loc[i,'id'] == train['id'][j]:\n",
    "        train1.loc[i,'content_mood'] = train['content_mood'][j]\n",
    "        train1.loc[i,'comment_mood'] = train['comment_mood'][j]\n",
    "        train1.loc[i,'comment_mood2'] = train['comment_mood2'][j]\n",
    "        j += 1\n",
    "    else:\n",
    "        j += 1\n",
    "test1['content_mood'] = None\n",
    "test1['comment_mood'] = None\n",
    "test1['comment_mood2'] = None\n",
    "j = 0\n",
    "for i in range(test1.shape[0]):\n",
    "    if test1.loc[i,'id'] == test['id'][j]:\n",
    "        test1.loc[i,'content_mood'] = test['content_mood'][j]\n",
    "        test1.loc[i,'comment_mood'] = test['comment_mood'][j]\n",
    "        test1.loc[i,'comment_mood2'] = test['comment_mood2'][j]\n",
    "        j += 1\n",
    "    else:\n",
    "        j += 1"
   ]
  },
  {
   "cell_type": "code",
   "execution_count": 9,
   "metadata": {},
   "outputs": [
    {
     "name": "stderr",
     "output_type": "stream",
     "text": [
      "/usr/local/lib/python3.6/dist-packages/IPython/core/interactiveshell.py:2785: DtypeWarning: Columns (0) have mixed types. Specify dtype option on import or set low_memory=False.\n",
      "  interactivity=interactivity, compiler=compiler, result=result)\n"
     ]
    }
   ],
   "source": [
    "test = pd.read_csv('/mnt/news_virus/test_clear_mood.csv')\n",
    "train = pd.read_csv('/mnt/news_virus/train_clear_mood.csv')"
   ]
  },
  {
   "cell_type": "code",
   "execution_count": 4,
   "metadata": {},
   "outputs": [
    {
     "data": {
      "text/plain": [
       "Index(['id', 'content', 'picture_lists', 'category', 'comment_2',\n",
       "       'comment_all', 'content_len', 'comment_num', 'comment_num2',\n",
       "       'exclamation_num', 'questionmask_num', 'etc_num',\n",
       "       'exclamation_num_comment2', 'questionmask_num_comment2',\n",
       "       'etc_num_comment2', 'exclamation_num_comment',\n",
       "       'questionmask_num_comment', 'etc_num_comment', 'pron_num', 'url_num',\n",
       "       'at_num', 'jing_num', 'pic_num', 'fake_num_comment2',\n",
       "       'fake_num_comment', 'fake_num', 'content_mood', 'comment_mood2',\n",
       "       'comment_mood'],\n",
       "      dtype='object')"
      ]
     },
     "execution_count": 4,
     "metadata": {},
     "output_type": "execute_result"
    }
   ],
   "source": [
    "test.columns"
   ]
  },
  {
   "cell_type": "code",
   "execution_count": 10,
   "metadata": {
    "scrolled": false
   },
   "outputs": [
    {
     "data": {
      "text/plain": [
       "Index(['id', 'content', 'picture_lists', 'category', 'ncw_label', 'fake_label',\n",
       "       'real_label', 'comment_2c', 'comment_all', 'content_len', 'comment_num',\n",
       "       'comment_num2', 'exclamation_num', 'questionmask_num', 'etc_num',\n",
       "       'exclamation_num_comment2', 'questionmask_num_comment2',\n",
       "       'etc_num_comment2', 'exclamation_num_comment',\n",
       "       'questionmask_num_comment', 'etc_num_comment', 'pron_num', 'url_num',\n",
       "       'at_num', 'jing_num', 'pic_num', 'fake_num_comment2',\n",
       "       'fake_num_comment', 'fake_num', 'content_mood', 'comment_mood2',\n",
       "       'comment_mood'],\n",
       "      dtype='object')"
      ]
     },
     "execution_count": 10,
     "metadata": {},
     "output_type": "execute_result"
    }
   ],
   "source": [
    "train.columns"
   ]
  },
  {
   "cell_type": "code",
   "execution_count": 14,
   "metadata": {
    "collapsed": true
   },
   "outputs": [],
   "source": [
    "len_1, len_2, len_3 = [], [], []\n",
    "for i in range(train.shape[0]):\n",
    "    if train['fake_label'][i] == 1:\n",
    "        len_1.append(train['content_len'][i])\n",
    "    elif train['real_label'][i] == 1:\n",
    "        len_2.append(train['content_len'][i])\n",
    "    elif train['ncw_label'][i] == 1:\n",
    "        len_3.append(train['content_len'][i])"
   ]
  },
  {
   "cell_type": "code",
   "execution_count": 16,
   "metadata": {
    "collapsed": true
   },
   "outputs": [],
   "source": [
    "len_1.sort()\n",
    "len_2.sort()\n",
    "len_3.sort()"
   ]
  },
  {
   "cell_type": "code",
   "execution_count": 23,
   "metadata": {
    "collapsed": true
   },
   "outputs": [],
   "source": [
    "import matplotlib.pyplot as plt "
   ]
  },
  {
   "cell_type": "code",
   "execution_count": 41,
   "metadata": {
    "collapsed": true
   },
   "outputs": [],
   "source": [
    "all_len = list(set(train['content_len'].tolist()))"
   ]
  },
  {
   "cell_type": "code",
   "execution_count": 46,
   "metadata": {
    "collapsed": true
   },
   "outputs": [],
   "source": [
    "all_len = [i for i in range(200)]"
   ]
  },
  {
   "cell_type": "code",
   "execution_count": 47,
   "metadata": {
    "collapsed": true
   },
   "outputs": [],
   "source": [
    "len_1_1 = []\n",
    "for each in all_len:\n",
    "    len_1_1.append(len_1.count(each))\n",
    "len_2_1 = []\n",
    "for each in all_len:\n",
    "    len_2_1.append(len_2.count(each))\n",
    "len_3_1 = []\n",
    "for each in all_len:\n",
    "    len_3_1.append(len_3.count(each))"
   ]
  },
  {
   "cell_type": "code",
   "execution_count": 49,
   "metadata": {},
   "outputs": [
    {
     "data": {
      "image/png": "[encoded data removed]",
      "text/plain": [
       "<Figure size 2400x1600 with 1 Axes>"
      ]
     },
     "metadata": {},
     "output_type": "display_data"
    },
    {
     "data": {
      "text/plain": [
       "<Figure size 432x288 with 0 Axes>"
      ]
     },
     "metadata": {},
     "output_type": "display_data"
    }
   ],
   "source": [
    "fig = plt.figure(dpi=400)\n",
    "plt.bar(all_len, len_1_1, 0.4, label='fake',fc = 'y')\n",
    "plt.bar(all_len, len_2_1, 0.4, label='real',fc = 'r')\n",
    "plt.bar(all_len, len_3_1, 0.4, label='ncw',fc = 'g')\n",
    "plt.xlabel(\"len\")\n",
    "plt.ylabel(\"num\")\n",
    "plt.legend()\n",
    "plt.show()\n",
    "plt.savefig(\"len_fb.png\")"
   ]
  },
  {
   "cell_type": "code",
   "execution_count": null,
   "metadata": {
    "collapsed": true
   },
   "outputs": [],
   "source": []
  }
 ],
 "metadata": {
  "kernelspec": {
   "display_name": "Python 3",
   "language": "python",
   "name": "python3"
  },
  "language_info": {
   "codemirror_mode": {
    "name": "ipython",
    "version": 3
   },
   "file_extension": ".py",
   "mimetype": "text/x-python",
   "name": "python",
   "nbconvert_exporter": "python",
   "pygments_lexer": "ipython3",
   "version": "3.6.3"
  }
 },
 "nbformat": 4,
 "nbformat_minor": 2
}
