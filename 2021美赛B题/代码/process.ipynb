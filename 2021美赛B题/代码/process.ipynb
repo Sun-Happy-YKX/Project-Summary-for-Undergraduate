{
 "cells": [
  {
   "cell_type": "code",
   "execution_count": 296,
   "metadata": {
    "collapsed": true
   },
   "outputs": [],
   "source": [
    "import datetime\n",
    "import numpy as np\n",
    "import pandas as pd\n",
    "from sklearn.cluster import DBSCAN\n",
    "from sklearn.preprocessing import StandardScaler\n",
    "from sklearn.preprocessing import MinMaxScaler\n",
    "import matplotlib.pyplot as plt\n",
    "import math"
   ]
  },
  {
   "cell_type": "code",
   "execution_count": 297,
   "outputs": [],
   "source": [
    "def add_frequency(data):\n",
    "    # 这里关于燃烧频率做一个假设规定，如果在数据中在某个地点A发生了燃烧，那么里该点五公里内点B再次发生燃烧\n",
    "    # 视为被这个点所影响，通过被A影响点B的个数翻译A点的燃烧频率，作为题目要求的输入参数\n",
    "    pass\n",
    "\n",
    "def preprocess(data, Scaling_factor):\n",
    "    # 把经纬度换算成以km为单位长度\n",
    "    data['longitude'] = data['longitude'] * np.cos(data['latitude'] * math.pi / 180) *111\n",
    "    data['latitude'] = data['latitude'] * 111\n",
    "    Scaling_factor = data.std()\n",
    "    sc = StandardScaler()\n",
    "    output_data = sc.fit_transform(data[['longitude', 'latitude', 'frp']])\n",
    "\n",
    "    return output_data, Scaling_factor"
   ],
   "metadata": {
    "collapsed": false,
    "pycharm": {
     "name": "#%%\n"
    }
   }
  },
  {
   "cell_type": "code",
   "execution_count": 298,
   "outputs": [],
   "source": [
    "def get_timestamp_str(time_stamp):\n",
    "    return datetime.fromtimestamp(time_stamp).strftime(\"%Y-%m-%d %H:%M:%S\")\n",
    "\n",
    "def DBSCAN_process(data, date_name, Scaling_factor, loss_function_facrors, Fire_Area, sigma = 3 ** 0.5):\n",
    "\n",
    "    model = DBSCAN(eps=0.08, min_samples=3, metric='euclidean', algorithm='auto', leaf_size=30, p=None, n_jobs=1)\n",
    "    y_pred = model.fit_predict(data)\n",
    "    total_points = len(data)\n",
    "    labels = model.labels_\n",
    "    total_clusters = len(set(labels)) - (1 if -1 in labels else 0)\n",
    "\n",
    "    # fig = plt.figure()\n",
    "    #\n",
    "    # ax1 = fig.add_subplot(311)\n",
    "    # plt.scatter(data[:, 0], data[:, 1], marker='o')\n",
    "    # plt.title('Initial distribution in date %s' %(date_name))\n",
    "    # plt.sca(ax1)\n",
    "    # ax3 = fig.add_subplot(313)\n",
    "    # plt.scatter(data[:, 0], data[:, 1], c=y_pred)\n",
    "    # plt.title('After DBSCAN clustering in date %s' %(date_name))\n",
    "    # plt.sca(ax3)\n",
    "\n",
    "    # result = \"Total points is %d. \\nTotal clusters is %d.\"%(total_points, total_clusters)\n",
    "    # fig.text(0.1, 0.5, result)\n",
    "    #\n",
    "    # date_name = date_name.strftime(\"%Y_%m_%d_%H_%M_%S\")\n",
    "    # plt.savefig(('./output/'+date_name+'.pdf'))\n",
    "\n",
    "    y_pred = y_pred.reshape(total_points, 1)\n",
    "    y_pred = np.array(y_pred)\n",
    "    after_DBSCAN = np.hstack((data,y_pred))\n",
    "    after_DBSCAN = pd.DataFrame(after_DBSCAN, columns=['latitude', 'longitude', 'frp', 'label'])\n",
    "    GroupBy = after_DBSCAN.groupby(\"label\")\n",
    "\n",
    "    sum_clusters_cost = 0\n",
    "    porosity = 0.0\n",
    "\n",
    "    for group_name, group in GroupBy:\n",
    "        if group_name >= 0:\n",
    "            temp = group.max() - group.min()\n",
    "            width = (temp['longitude']) * Scaling_factor['longitude']\n",
    "            height = (temp['latitude']) * Scaling_factor['latitude']\n",
    "            if width < height:\n",
    "                temp = width\n",
    "                width = height\n",
    "                height = temp\n",
    "            porosity = get_porosity(sigma)\n",
    "            single_cluster_cost, fire = get_cost(width,height,sigma)\n",
    "            sum_clusters_cost = sum_clusters_cost + single_cluster_cost\n",
    "            fire_area_new_row = np.array([date_name, group_name, width, height, fire]).reshape(1,5)\n",
    "            Fire_Area = np.concatenate((Fire_Area, fire_area_new_row),axis=0)\n",
    "    loss_function_new_row = np.array([date_name, sum_clusters_cost, porosity]).reshape(1,3)\n",
    "    loss_function_facrors = np.concatenate((loss_function_facrors, loss_function_new_row),axis=0)\n",
    "\n",
    "    return loss_function_facrors, Fire_Area"
   ],
   "metadata": {
    "collapsed": false,
    "pycharm": {
     "name": "#%%\n"
    }
   }
  },
  {
   "cell_type": "code",
   "execution_count": 299,
   "outputs": [],
   "source": [
    "def get_RD(m, n,sigma = 3 ** 0.5):\n",
    "    if 0 <= m < 18:\n",
    "        if 0 < n <= 17:\n",
    "            return 4\n",
    "        elif 17 < n <= 35:\n",
    "            return 6\n",
    "        elif 35 < n <= 52:\n",
    "            return 10\n",
    "        elif 52 < n <= 70:\n",
    "            return 12\n",
    "    elif 18 <= m < 35:\n",
    "        if 0 < n <= 17:\n",
    "            return 6\n",
    "        elif 17 < n <= 35:\n",
    "            return 9\n",
    "        elif 35 < n <= 52:\n",
    "            return 15\n",
    "        elif 52 < n <= 70:\n",
    "            return 18\n",
    "    elif 35 <= m < 53:\n",
    "        if 0 < n <= 17:\n",
    "            return 10\n",
    "        elif 17 < n <= 35:\n",
    "            return 15\n",
    "        elif 35 < n <= 52:\n",
    "            return 25\n",
    "        elif 52 < n <= 70:\n",
    "            return 30\n",
    "    if 53 <= m < 70:\n",
    "        if 0 < n <= 17:\n",
    "            return 12\n",
    "        elif 17 < n <= 35:\n",
    "            return 18\n",
    "        elif 35 < n <= 52:\n",
    "            return 30\n",
    "        elif 52 < n <= 70:\n",
    "            return 36\n",
    "    else:\n",
    "        r = 5\n",
    "        d = sigma * r\n",
    "        if sigma == 3 ** 0.5:\n",
    "            return math.ceil(3*(((m-2*r)/d+1)+((n-60-2*r)/d+1)))\n",
    "        else: # 这里就是阈值不为默认 人为输入的时候\n",
    "            return math.ceil(3*(((m-10)/(5*sigma)+1)+((n-70)/(5*sigma)+1)))\n",
    "\n",
    "def get_SSI(m, n):\n",
    "    if m < 30:\n",
    "        return 2 * math.ceil(n/10)\n",
    "    elif m < 60:\n",
    "        return 4 * math.ceil(n/10)\n",
    "    else:\n",
    "        return math.ceil(2/5*(m+n-60))\n",
    "\n",
    "def get_porosity(sigma=3**0.5):\n",
    "    r = 5\n",
    "    d = sigma * r\n",
    "    return (16 * (((d ** 2 / 4) * (1 - math.sqrt((4 * r ** 2 / d ** 2) - 1))) - ((math.pi / 4 - math.acos(d / (2 * r))) * r ** 2)))/ ((9 * math.pi * r ** 2) - 24 * ((r ** 2 * math.acos(d / (2 * r))) - (d * math.sqrt(r ** 2 - d ** 2 / 4) / 2)))\n",
    "\n",
    "def get_cost(width, height, sigma):\n",
    "    Fire_Area = width * height\n",
    "    SSA_num = get_SSI(width, height)\n",
    "    RD_num = get_RD(width, height, sigma)\n",
    "    all_money_cost = (RD_num + SSA_num) * 10000\n",
    "    return all_money_cost, Fire_Area"
   ],
   "metadata": {
    "collapsed": false,
    "pycharm": {
     "name": "#%%\n"
    }
   }
  },
  {
   "cell_type": "code",
   "execution_count": 300,
   "outputs": [],
   "source": [
    "def get_sigma_adjust_figure(loss_function_facrors):\n",
    "    loss_function_facrors = np.delete(loss_function_facrors,0,axis=0)\n",
    "    sc = MinMaxScaler()\n",
    "    date_column = loss_function_facrors[:,0].reshape(-1,1)\n",
    "    porosity_column = loss_function_facrors[:,2].reshape(-1,1).astype(float)\n",
    "    money_column = sc.fit_transform(loss_function_facrors[:,1].reshape(-1,1)).astype(float)\n",
    "    F1_score_column = (porosity_column + 40 * money_column)\n",
    "    loss_function_facrors =  np.concatenate((date_column, F1_score_column),axis=1)\n",
    "    return loss_function_facrors"
   ],
   "metadata": {
    "collapsed": false,
    "pycharm": {
     "name": "#%%\n"
    }
   }
  },
  {
   "cell_type": "code",
   "execution_count": 301,
   "outputs": [
    {
     "name": "stdout",
     "output_type": "stream",
     "text": [
      "sigma is  1.414\n",
      "sigma is  1.656\n",
      "sigma is  1.758\n",
      "sigma is  1.838\n",
      "sigma is  1.9\n",
      "sigma is  1.96\n",
      "sigma is  2.0\n"
     ]
    },
    {
     "name": "stderr",
     "output_type": "stream",
     "text": [
      "C:\\Users\\yangkaixing\\AppData\\Roaming\\Python\\Python38\\site-packages\\IPython\\core\\interactiveshell.py:3338: DtypeWarning: Columns (23) have mixed types.Specify dtype option on import or set low_memory=False.\n",
      "  if (await self.run_code(code, result,  async_=asy)):\n",
      "C:\\Users\\yangkaixing\\AppData\\Roaming\\Python\\Python38\\site-packages\\IPython\\core\\interactiveshell.py:3338: DtypeWarning: Columns (23) have mixed types.Specify dtype option on import or set low_memory=False.\n",
      "  if (await self.run_code(code, result,  async_=asy)):\n",
      "C:\\Users\\yangkaixing\\AppData\\Roaming\\Python\\Python38\\site-packages\\IPython\\core\\interactiveshell.py:3338: DtypeWarning: Columns (23) have mixed types.Specify dtype option on import or set low_memory=False.\n",
      "  if (await self.run_code(code, result,  async_=asy)):\n",
      "C:\\Users\\yangkaixing\\AppData\\Roaming\\Python\\Python38\\site-packages\\IPython\\core\\interactiveshell.py:3338: DtypeWarning: Columns (23) have mixed types.Specify dtype option on import or set low_memory=False.\n",
      "  if (await self.run_code(code, result,  async_=asy)):\n",
      "C:\\Users\\yangkaixing\\AppData\\Roaming\\Python\\Python38\\site-packages\\IPython\\core\\interactiveshell.py:3338: DtypeWarning: Columns (23) have mixed types.Specify dtype option on import or set low_memory=False.\n",
      "  if (await self.run_code(code, result,  async_=asy)):\n",
      "C:\\Users\\yangkaixing\\AppData\\Roaming\\Python\\Python38\\site-packages\\IPython\\core\\interactiveshell.py:3338: DtypeWarning: Columns (23) have mixed types.Specify dtype option on import or set low_memory=False.\n",
      "  if (await self.run_code(code, result,  async_=asy)):\n",
      "C:\\Users\\yangkaixing\\AppData\\Roaming\\Python\\Python38\\site-packages\\IPython\\core\\interactiveshell.py:3338: DtypeWarning: Columns (23) have mixed types.Specify dtype option on import or set low_memory=False.\n",
      "  if (await self.run_code(code, result,  async_=asy)):\n"
     ]
    }
   ],
   "source": [
    "def process(sigma):\n",
    "    print('sigma is ', sigma)\n",
    "    data = pd.read_csv(\"./data/fire_archive_M6_96619.csv\")\n",
    "    data['acq_date'] = pd.to_datetime(data['acq_date'])\n",
    "    GroupBy = data.groupby(\"acq_date\")\n",
    "    Scaling_factor = [] # 这个是经纬度标准化的缩放系数，归一化后算成本的时候要折算回去\n",
    "    Fire_Area = np.array([['Time','Cluster_Num','Width','Height','Area']])\n",
    "    loss_function_facrors = [['Time','Cost','Porosity']]\n",
    "\n",
    "    for name,group in GroupBy:\n",
    "        temp_group, Scaling_factor = preprocess(group, Scaling_factor)\n",
    "        loss_function_facrors, Fire_Area = DBSCAN_process(temp_group, name, Scaling_factor, loss_function_facrors, Fire_Area, sigma)\n",
    "\n",
    "    loss_function_facrors = pd.DataFrame(get_sigma_adjust_figure(loss_function_facrors),columns=['Datetime','F1_score'])\n",
    "    Fire_Area = np.delete(Fire_Area, 0, axis=0)\n",
    "    Fire_Area = pd.DataFrame(Fire_Area,columns=['Datetime','Cluster_Num','Width','Heigh','Area'])\n",
    "    sigma_adjust_name = 'sigma_adjust/sigma_'+str(sigma)+'.csv'\n",
    "    Fire_Area_Name = 'Fire_Area/fire_area_sigma_'+str(sigma)+'.csv'\n",
    "    loss_function_facrors.to_csv(sigma_adjust_name, index=0)\n",
    "    Fire_Area.to_csv(Fire_Area_Name, index=0)\n",
    "\n",
    "    del data, GroupBy, Scaling_factor, Fire_Area, loss_function_facrors\n",
    "\n",
    "sigma_list = [1.414, 1.656, 1.758, 1.838, 1.900, 1.960, 2.000]\n",
    "for sigma in sigma_list:\n",
    "    process(sigma)"
   ],
   "metadata": {
    "collapsed": false,
    "pycharm": {
     "name": "#%%\n"
    }
   }
  },
  {
   "cell_type": "code",
   "execution_count": 302,
   "outputs": [
    {
     "data": {
      "text/plain": "<Figure size 432x288 with 1 Axes>",
      "image/png": "[encoded data removed]"
     },
     "metadata": {
      "needs_background": "light"
     },
     "output_type": "display_data"
    }
   ],
   "source": [
    "def plot_sigma_figure():\n",
    "    sigma_1414 = pd.read_csv('sigma_adjust/sigma_1.414.csv')\n",
    "    sigma_1656 = pd.read_csv('sigma_adjust/sigma_1.656.csv')\n",
    "    sigma_1758 = pd.read_csv('sigma_adjust/sigma_1.758.csv')\n",
    "    sigma_1838 = pd.read_csv('sigma_adjust/sigma_1.838.csv')\n",
    "    sigma_1900 = pd.read_csv('sigma_adjust/sigma_1.9.csv')\n",
    "    sigma_1960 = pd.read_csv('sigma_adjust/sigma_1.96.csv')\n",
    "    sigma_2000 = pd.read_csv('sigma_adjust/sigma_2.0.csv')\n",
    "    x = range(61)\n",
    "    plt.title('Sigma-Score')\n",
    "    plt.plot(x, sigma_1414['F1_score'], color='green', label='sigma_1414')\n",
    "    plt.plot(x, sigma_1656['F1_score'], color='red', label='sigma_1656')\n",
    "    plt.plot(x, sigma_1758['F1_score'], color='skyblue', label='sigma_1758')\n",
    "    plt.plot(x, sigma_1838['F1_score'], color='yellow', label='sigma_1838')\n",
    "    plt.plot(x, sigma_1900['F1_score'], color='black', label='sigma_1900')\n",
    "    plt.plot(x, sigma_1960['F1_score'], color='grey', label='sigma_1960')\n",
    "    plt.plot(x, sigma_2000['F1_score'], color='orange', label='sigma_2000')\n",
    "    plt.legend()\n",
    "    plt.xlabel('Date from 2019/08/01 to 2019/09/30')\n",
    "    plt.ylabel('Score')\n",
    "    plt.savefig('./sigma_adjust/sigma_score.pdf')\n",
    "    plt.show()\n",
    "\n",
    "# plot_sigma_figure()"
   ],
   "metadata": {
    "collapsed": false,
    "pycharm": {
     "name": "#%%\n"
    }
   }
  },
  {
   "cell_type": "code",
   "execution_count": 325,
   "outputs": [
    {
     "name": "stdout",
     "output_type": "stream",
     "text": [
      "0.10250240193353893\n"
     ]
    }
   ],
   "source": [
    "def analyze_area():\n",
    "    fire_area = pd.read_csv('./Fire_Area/fire_area_sigma_1.656.csv')\n",
    "    result = fire_area.describe()\n",
    "    result.to_csv('./Fire_Area/Fire_Area_Analysis.csv')\n",
    "# analyze_area()\n",
    "\n",
    "def get_sigma_porosity():\n",
    "    sigma_list = [1.414, 1.656, 1.758, 1.838, 1.900, 1.960, 2.000]\n",
    "    result = pd.DataFrame([])\n",
    "    for sigma in sigma_list:\n",
    "        result[str(sigma)]=get_porosity(1.758)\n",
    "    result.to_csv('Rs_result.csv',index=0)\n",
    "print(get_porosity(1.960))"
   ],
   "metadata": {
    "collapsed": false,
    "pycharm": {
     "name": "#%%\n"
    }
   }
  },
  {
   "cell_type": "code",
   "execution_count": 311,
   "outputs": [
    {
     "data": {
      "text/plain": "<Figure size 432x288 with 2 Axes>",
      "image/png": "[encoded data removed]"
     },
     "metadata": {
      "needs_background": "light"
     },
     "output_type": "display_data"
    },
    {
     "name": "stdout",
     "output_type": "stream",
     "text": [
      "latitude       907.124117\n",
      "longitude     1082.433957\n",
      "brightness      28.605291\n",
      "scan             0.811106\n",
      "track            0.247695\n",
      "acq_time       622.267670\n",
      "confidence      25.041968\n",
      "bright_t31      13.348698\n",
      "frp            241.045287\n",
      "dtype: float64\n"
     ]
    }
   ],
   "source": [
    "def get_clusters_like_question():\n",
    "    data = pd.read_csv('./data/fire_nrt_M6_96619.csv')\n",
    "    data['longitude'] = data['longitude'] * np.cos(data['latitude'] * math.pi / 180) *111\n",
    "    data['latitude'] = data['latitude'] * 111\n",
    "    sc = StandardScaler()\n",
    "    scale = data.std()\n",
    "    data = sc.fit_transform(data[['longitude', 'latitude', 'frp']])\n",
    "    model = DBSCAN(eps=0.08, min_samples=3, metric='euclidean', algorithm='auto', leaf_size=30, p=None, n_jobs=1)\n",
    "    y_pred = model.fit_predict(data)\n",
    "    total_points = len(data)\n",
    "    labels = model.labels_\n",
    "    total_clusters = len(set(labels)) - (1 if -1 in labels else 0)\n",
    "\n",
    "    fig = plt.figure()\n",
    "    ax1 = fig.add_subplot(311)\n",
    "    ax1.axis('equal')\n",
    "    plt.scatter(data[:, 0], data[:, 1], marker='o')\n",
    "    plt.title('Initial distribution in date from 2019/10/01 to 2020/01/11')\n",
    "    plt.sca(ax1)\n",
    "    ax3 = fig.add_subplot(313)\n",
    "    ax3.axis('equal')\n",
    "    plt.scatter(data[:, 0], data[:, 1], c=y_pred)\n",
    "    plt.title('After DBSCAN clustering in date from 2019/10/01 to 2020/01/11')\n",
    "    plt.sca(ax3)\n",
    "\n",
    "    result = \"Total points is %d. \\nTotal clusters is %d.\"%(total_points, total_clusters)\n",
    "    fig.text(0.1, 0.5, result)\n",
    "\n",
    "    plt.savefig('./output/total_distribution.pdf')\n",
    "    plt.show()\n",
    "    print(scale)\n",
    "\n",
    "get_clusters_like_question()"
   ],
   "metadata": {
    "collapsed": false,
    "pycharm": {
     "name": "#%%\n"
    }
   }
  },
  {
   "cell_type": "code",
   "execution_count": 329,
   "outputs": [
    {
     "name": "stdout",
     "output_type": "stream",
     "text": [
      "测试代码！\n",
      "478.4904\n",
      "测试完成！\n"
     ]
    }
   ],
   "source": [
    "print(\"测试代码！\")\n",
    "print(318.9936*1.5)\n",
    "print(\"测试完成！\")"
   ],
   "metadata": {
    "collapsed": false,
    "pycharm": {
     "name": "#%%\n"
    }
   }
  }
 ],
 "metadata": {
  "kernelspec": {
   "name": "pycharm-4030e6e6",
   "language": "python",
   "display_name": "PyCharm (房价预测)"
  },
  "language_info": {
   "codemirror_mode": {
    "name": "ipython",
    "version": 2
   },
   "file_extension": ".py",
   "mimetype": "text/x-python",
   "name": "python",
   "nbconvert_exporter": "python",
   "pygments_lexer": "ipython2",
   "version": "2.7.6"
  }
 },
 "nbformat": 4,
 "nbformat_minor": 0
}