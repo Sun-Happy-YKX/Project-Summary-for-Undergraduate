{
 "cells": [
  {
   "cell_type": "code",
   "execution_count": 1,
   "metadata": {
    "collapsed": true
   },
   "outputs": [
    {
     "name": "stdout",
     "output_type": "stream",
     "text": [
      "2.6.0\n"
     ]
    }
   ],
   "source": [
    "import geatpy as ea\n",
    "print(ea.__version__)\n"
   ]
  },
  {
   "cell_type": "code",
   "execution_count": 2,
   "outputs": [
    {
     "name": "stdout",
     "output_type": "stream",
     "text": [
      "Help on cython_function_or_method in module crtpc:\n",
      "\n",
      "crtpc(Encoding, Nind, Field, Parallel=False)\n",
      "    crtpc : function - (Create Population's Chromosomes)创建一个种群染色体矩阵（高级函数）\n",
      "    \n",
      "    描述:\n",
      "        该函数根据种群的编码方式去调用对应的低级种群染色体生成函数来创建一个种群染色体矩阵。\n",
      "    \n",
      "    语法:\n",
      "        Chrom = crtpc(Encoding, Nind, Field)\n",
      "        Chrom = crtpc(Encoding, Nind, Field, Parallel)\n",
      "    \n",
      "    输入参数:\n",
      "        Encoding : str   - 染色体编码方式，\n",
      "                           'BG':二进制/格雷编码，此时该函数将调用crtbp来生成染色体矩阵；\n",
      "                           'RI':实整数编码，即实数和整数的混合编码，此时该函数将调用crtri来生成染色体矩阵；\n",
      "                           'P':排列编码，此时该函数将调用crtpp来生成染色体矩阵。\n",
      "                           相关概念：术语“实值编码”包含实整数编码和排列编码，\n",
      "                           它们共同的特点是染色体不需要解码即可直接表示对应的决策变量。\n",
      "        \n",
      "        Nind     : int   - 种群规模。\n",
      "        \n",
      "        Field    : array - 译码矩阵，可以是FieldD或FieldDR（详见Geatpy数据结构或help(crtfld)）。\n",
      "    \n",
      "    输出参数:\n",
      "        Chrom    : array - 种群染色体矩阵。\n",
      "        \n",
      "    Core version: 2.6\n",
      "\n",
      "[[-0.19920349 -1.11657715 -0.          5.        ]\n",
      " [-2.87766724 -0.95275879 -0.          3.        ]\n",
      " [ 3.98145447 -1.20593262  0.          4.        ]\n",
      " [ 1.42418213 -1.31079102  1.          3.        ]]\n"
     ]
    }
   ],
   "source": [
    "import numpy as np\n",
    "from geatpy import crtpc\n",
    "help(crtpc) # 查看帮助\n",
    "# 定义种群规模（个体数目）\n",
    "Nind = 4\n",
    "Encoding = 'RI' # 表示采用“实整数编码”，即变量可以是连续的也可以是离散的\n",
    "# 创建“区域描述器”，表明有4个决策变量，范围分别是[-3.1, 4.2], [-2, 2],[0, 1],[3, 3]，\n",
    "# FieldDR第三行[0,0,1,1]表示前两个决策变量是连续型的，后两个变量是离散型的\n",
    "FieldDR=np.array([[-3.1, -2, 0, 3],\n",
    "                  [ 4.2,  2, 1, 5],\n",
    "                  [ 0,    0, 1, 1]])\n",
    "# 调用crtri函数创建实数值种群\n",
    "Chrom=crtpc(Encoding, Nind, FieldDR)\n",
    "print(Chrom)"
   ],
   "metadata": {
    "collapsed": false,
    "pycharm": {
     "name": "#%%\n"
    }
   }
  },
  {
   "cell_type": "code",
   "execution_count": 4,
   "outputs": [],
   "source": [
    "import gym  # 导入 Gym 的 Python 接口环境包\n",
    "env = gym.make('CartPole-v0')  # 构建实验环境\n",
    "env.reset()  # 重置一个 episode\n",
    "for _ in range(1000):\n",
    "    env.render()  # 显示图形界面\n",
    "    action = env.action_space.sample() # 从动作空间中随机选取一个动作\n",
    "    env.step(action) # 用于提交动作，括号内是具体的动作\n",
    "env.close() # 关闭环境\n",
    "\n"
   ],
   "metadata": {
    "collapsed": false,
    "pycharm": {
     "name": "#%%\n"
    }
   }
  },
  {
   "cell_type": "code",
   "execution_count": null,
   "outputs": [],
   "source": [],
   "metadata": {
    "collapsed": false,
    "pycharm": {
     "name": "#%%"
    }
   }
  }
 ],
 "metadata": {
  "kernelspec": {
   "name": "pycharm-4030e6e6",
   "language": "python",
   "display_name": "PyCharm (房价预测)"
  },
  "language_info": {
   "codemirror_mode": {
    "name": "ipython",
    "version": 2
   },
   "file_extension": ".py",
   "mimetype": "text/x-python",
   "name": "python",
   "nbconvert_exporter": "python",
   "pygments_lexer": "ipython2",
   "version": "2.7.6"
  }
 },
 "nbformat": 4,
 "nbformat_minor": 0
}